{
 "cells": [
  {
   "cell_type": "code",
   "execution_count": 1,
   "metadata": {},
   "outputs": [],
   "source": [
    "import pandas as pd"
   ]
  },
  {
   "cell_type": "code",
   "execution_count": 4,
   "metadata": {},
   "outputs": [],
   "source": [
    "df = pd.read_csv('data.csv')"
   ]
  },
  {
   "cell_type": "code",
   "execution_count": 6,
   "metadata": {},
   "outputs": [],
   "source": [
    "age = df[ df.participant_age < 120 ]"
   ]
  },
  {
   "cell_type": "code",
   "execution_count": null,
   "metadata": {},
   "outputs": [],
   "source": [
    "age_group = age.groupby(['participant_age'])['participant_age'].count()"
   ]
  },
  {
   "cell_type": "code",
   "execution_count": null,
   "metadata": {},
   "outputs": [],
   "source": [
    "age_18_30 = age_group[18:30].sum()\n",
    "age_0_17 = age_group[:18].sum()\n",
    "age_31_final = age_group[31:].sum()\n",
    "total = age_group.sum()\n",
    "\n",
    "print(f'De 18 a 30: {age_18_30}\\n\\\n",
    "Total: {total}')"
   ]
  },
  {
   "cell_type": "code",
   "execution_count": 41,
   "metadata": {},
   "outputs": [
    {
     "name": "stdout",
     "output_type": "stream",
     "text": [
      "Porcentaje sobre el total (18-30): 43.064907083221115%\n",
      "Porcentaje sobre el total (0-17): 18.787420497627878%\n",
      "Porcentaje sobre el total (31-final): 35.645030972259626%\n"
     ]
    }
   ],
   "source": [
    "print(f'Porcentaje sobre el total (18-30): {100 * age_18_30/total}%\\n\\\n",
    "Porcentaje sobre el total (0-17): {100 * age_0_17/total}%\\n\\\n",
    "Porcentaje sobre el total (31-final): {100 * age_31_final/total}%')"
   ]
  },
  {
   "cell_type": "code",
   "execution_count": null,
   "metadata": {},
   "outputs": [],
   "source": []
  }
 ],
 "metadata": {
  "interpreter": {
   "hash": "203ebd18a6119962119203b834be9f76b464cb3e204ab5fa1383e364a72d0d85"
  },
  "kernelspec": {
   "display_name": "Python 3.7.4 ('base')",
   "language": "python",
   "name": "python3"
  },
  "language_info": {
   "codemirror_mode": {
    "name": "ipython",
    "version": 3
   },
   "file_extension": ".py",
   "mimetype": "text/x-python",
   "name": "python",
   "nbconvert_exporter": "python",
   "pygments_lexer": "ipython3",
   "version": "3.7.4"
  },
  "orig_nbformat": 4
 },
 "nbformat": 4,
 "nbformat_minor": 2
}
